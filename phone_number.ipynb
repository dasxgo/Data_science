{
  "nbformat": 4,
  "nbformat_minor": 0,
  "metadata": {
    "colab": {
      "provenance": [],
      "authorship_tag": "ABX9TyNya4SvQWjpCMieA1pV0yzV",
      "include_colab_link": true
    },
    "kernelspec": {
      "name": "python3",
      "display_name": "Python 3"
    },
    "language_info": {
      "name": "python"
    }
  },
  "cells": [
    {
      "cell_type": "markdown",
      "metadata": {
        "id": "view-in-github",
        "colab_type": "text"
      },
      "source": [
        "<a href=\"https://colab.research.google.com/github/dasxgo/data-colab/blob/main/phone_number.ipynb\" target=\"_parent\"><img src=\"https://colab.research.google.com/assets/colab-badge.svg\" alt=\"Open In Colab\"/></a>"
      ]
    },
    {
      "cell_type": "code",
      "execution_count": 2,
      "metadata": {
        "colab": {
          "base_uri": "https://localhost:8080/"
        },
        "id": "cye_WlbTGycB",
        "outputId": "866658e7-2cf8-4849-fdcf-1afcab8f86ce"
      },
      "outputs": [
        {
          "output_type": "stream",
          "name": "stdout",
          "text": [
            "Collecting phonenumbers\n",
            "  Downloading phonenumbers-8.13.22-py2.py3-none-any.whl (2.6 MB)\n",
            "\u001b[2K     \u001b[90m━━━━━━━━━━━━━━━━━━━━━━━━━━━━━━━━━━━━━━━━\u001b[0m \u001b[32m2.6/2.6 MB\u001b[0m \u001b[31m10.8 MB/s\u001b[0m eta \u001b[36m0:00:00\u001b[0m\n",
            "\u001b[?25hInstalling collected packages: phonenumbers\n",
            "Successfully installed phonenumbers-8.13.22\n"
          ]
        }
      ],
      "source": [
        "pip install phonenumbers"
      ]
    },
    {
      "cell_type": "code",
      "source": [
        "import phonenumbers\n",
        "pN = phonenumbers.parse(\"+573045823256\")\n",
        "print(pN)"
      ],
      "metadata": {
        "colab": {
          "base_uri": "https://localhost:8080/"
        },
        "id": "j3Pk5rcnHKL7",
        "outputId": "fa6a2de0-000d-46d3-e241-ab9efa3be2a8"
      },
      "execution_count": 7,
      "outputs": [
        {
          "output_type": "stream",
          "name": "stdout",
          "text": [
            "Country Code: 57 National Number: 3045823256\n"
          ]
        }
      ]
    },
    {
      "cell_type": "code",
      "source": [
        "import phonenumbers\n",
        "from phonenumbers import timezone\n",
        "pN = phonenumbers.parse(\"+573045823256\")\n",
        "tZ = timezone.time_zones_for_number(pN)\n",
        "print(tZ)"
      ],
      "metadata": {
        "colab": {
          "base_uri": "https://localhost:8080/"
        },
        "id": "kTpNQEueHgXM",
        "outputId": "5d1c2bda-b492-4cd9-df5b-394373899385"
      },
      "execution_count": 8,
      "outputs": [
        {
          "output_type": "stream",
          "name": "stdout",
          "text": [
            "('America/Bogota',)\n"
          ]
        }
      ]
    },
    {
      "cell_type": "code",
      "source": [
        "import phonenumbers\n",
        "T = \"Contact us at +573045823256 or +14691674587\"\n",
        "N = phonenumbers.PhoneNumberMatcher(T, \"CO\")\n",
        "for n in N:\n",
        "    print(n)"
      ],
      "metadata": {
        "colab": {
          "base_uri": "https://localhost:8080/"
        },
        "id": "ujQup9NQHiJZ",
        "outputId": "888d22e3-a186-4224-f910-8197ea7bfbec"
      },
      "execution_count": 10,
      "outputs": [
        {
          "output_type": "stream",
          "name": "stdout",
          "text": [
            "PhoneNumberMatch [14,27) +573045823256\n"
          ]
        }
      ]
    },
    {
      "cell_type": "code",
      "source": [
        "import phonenumbers\n",
        "from phonenumbers import geocoder, carrier\n",
        "pN = phonenumbers.parse(\"+573045823256\")\n",
        "C = carrier.name_for_number(pN, 'en')\n",
        "R = geocoder.description_for_number(pN, 'en')\n",
        "print(C)\n",
        "print(R)"
      ],
      "metadata": {
        "colab": {
          "base_uri": "https://localhost:8080/"
        },
        "id": "7onrGGbnHo9a",
        "outputId": "cef7045b-5d7a-4c3c-f102-01378bb61bfb"
      },
      "execution_count": 11,
      "outputs": [
        {
          "output_type": "stream",
          "name": "stdout",
          "text": [
            "Tigo\n",
            "Colombia\n"
          ]
        }
      ]
    }
  ]
}